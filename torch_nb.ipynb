{
  "nbformat": 4,
  "nbformat_minor": 0,
  "metadata": {
    "colab": {
      "provenance": [],
      "gpuType": "T4"
    },
    "kernelspec": {
      "name": "python3",
      "display_name": "Python 3"
    },
    "language_info": {
      "name": "python"
    },
    "accelerator": "GPU"
  },
  "cells": [
    {
      "cell_type": "markdown",
      "source": [
        "```\n",
        "    _   __                                  __           _   __         __                              __          \n",
        "   / | / /  ___   __  __   _____  ____ _   / /          / | / /  ___   / /_ _      __  ____    _____   / /__   _____\n",
        "  /  |/ /  / _ \\ / / / /  / ___/ / __ `/  / /          /  |/ /  / _ \\ / __/| | /| / / / __ \\  / ___/  / //_/  / ___/\n",
        " / /|  /  /  __// /_/ /  / /    / /_/ /  / /          / /|  /  /  __// /_  | |/ |/ / / /_/ / / /     / ,<    (__  )\n",
        "/_/ |_/   \\___/ \\__,_/  /_/     \\__,_/  /_/          /_/ |_/   \\___/ \\__/  |__/|__/  \\____/ /_/     /_/|_|  /____/  \n",
        "                                                                                                                           \n",
        "```                                                                           \n",
        "## Intro to Neural Networks and PyTorch\n",
        "\n",
        "What you will learn:\n",
        "- What is a neural network\n",
        "- Defining a neural network in numpy\n",
        "- Intro to PyTorch\n",
        "- Defining a neural network in PyTorch\n",
        "\n",
        "---\n",
        "\n",
        "What is a neural network?\n",
        "\n",
        "\n",
        "\n",
        "A neural network is designed to mimic the human brain, it is comprised of a series of neurons and layers which deal with inputs and produces some output.\n",
        "\n",
        "\n",
        "An example of a very basic neuron is as follows\n",
        "\n",
        "![](https://cdn.rawgit.com/leoloman/intro-pytorch-nn/main/perceptron.svg)\n",
        "\n",
        "\n",
        "This neuron has 2 inputs, $x_{1}$, $x_{2}$, which are fed into the weight layer, then this goes to a bias layer which is shown by the green layer, this is then followed by the activation function.\n",
        "\n",
        "What occurs in the network at each step is as follows:\n",
        "\n",
        "Red Layer:\n",
        "\n",
        "$$\n",
        "z_{1} = x_{1} * w_{1}\n",
        "$$\n",
        "$$\n",
        "z_{2} = x_{2} * w_{2}\n",
        "$$\n",
        "\n",
        "Green Layer:\n",
        "\n",
        "$$\n",
        "v = z_{1} + z_{2} + b\n",
        "$$\n",
        "\n",
        "Orage layer - activation function\n",
        "\n",
        "$$\n",
        "y = f(v)\n",
        "$$\n",
        "\n",
        "The activation function is used to convert the unbounded input into a predictable form, a commonly used activation function is the sigmoid function. The sigmoid function only outputs numbers within the range of 0 - 1, large negative numbers become close to 0 and large positive numbers become close to 1.\n",
        "\n",
        "Worked example:\n",
        "\n",
        "$$\n",
        "w = [0, 1]\n",
        "$$\n",
        "$$\n",
        "b = 4\n",
        "$$\n",
        "$$\n",
        "x = [2, 3]\n",
        "$$\n",
        "\n",
        "$$\n",
        "(0 * 2) + (1 * 3) + 4 = 7\n",
        "$$\n",
        "\n",
        "$$\n",
        "f(7) = 0.999\n",
        "$$\n",
        "\n",
        "The process of passing inputs through a neuron to get an output is known as a feedforward.\n",
        "\n",
        "Now lets program this basic neural network\n"
      ],
      "metadata": {
        "id": "RYCqR_Jvhi4G"
      }
    },
    {
      "cell_type": "code",
      "source": [
        "import os\n",
        "import numpy as np"
      ],
      "metadata": {
        "id": "hysQst9Whisp"
      },
      "execution_count": 1,
      "outputs": []
    },
    {
      "cell_type": "code",
      "source": [
        "def sigmoid(x):\n",
        "  \"\"\"Activation function\n",
        "      f(x) = 1 / (1 + e^-x)\n",
        "  \"\"\"\n",
        "  return 1 / (1 + np.exp(-x))\n",
        "\n",
        "\n",
        "class Neuron:\n",
        "  def __init__(self, weights, bias):\n",
        "    self.weights = weights\n",
        "    self.bias = bias\n",
        "\n",
        "  def feedforward(self, inputs):\n",
        "    total = np.dot(self.weights, inputs) + self.bias\n",
        "    return sigmoid(total)"
      ],
      "metadata": {
        "id": "qnYwygemy3OY"
      },
      "execution_count": 2,
      "outputs": []
    },
    {
      "cell_type": "code",
      "source": [
        "weights = np.array([0,1])\n",
        "bias = 4\n",
        "n = Neuron(weights, bias)\n",
        "\n",
        "x = np.array([2,3])\n",
        "print(n.feedforward(x))"
      ],
      "metadata": {
        "colab": {
          "base_uri": "https://localhost:8080/"
        },
        "id": "_doYzFZ0z9v8",
        "outputId": "995128ba-a29a-47c7-a2e1-73492539e268"
      },
      "execution_count": 3,
      "outputs": [
        {
          "output_type": "stream",
          "name": "stdout",
          "text": [
            "0.9990889488055994\n"
          ]
        }
      ]
    },
    {
      "cell_type": "code",
      "execution_count": 27,
      "metadata": {
        "colab": {
          "base_uri": "https://localhost:8080/"
        },
        "id": "aBPc_DrYe9dv",
        "outputId": "5e561499-7121-4116-c350-ac1be3a89b61"
      },
      "outputs": [
        {
          "output_type": "stream",
          "name": "stdout",
          "text": [
            "Requirement already satisfied: torch in /usr/local/lib/python3.10/dist-packages (2.4.1+cu121)\n",
            "Requirement already satisfied: torchaudio in /usr/local/lib/python3.10/dist-packages (2.4.1+cu121)\n",
            "Requirement already satisfied: torchvision in /usr/local/lib/python3.10/dist-packages (0.19.1+cu121)\n",
            "Requirement already satisfied: torchtext in /usr/local/lib/python3.10/dist-packages (0.18.0)\n",
            "Requirement already satisfied: torchdata in /usr/local/lib/python3.10/dist-packages (0.8.0)\n",
            "Requirement already satisfied: transformers in /usr/local/lib/python3.10/dist-packages (4.44.2)\n",
            "Collecting bitsandbytes\n",
            "  Downloading bitsandbytes-0.44.1-py3-none-manylinux_2_24_x86_64.whl.metadata (3.5 kB)\n",
            "Requirement already satisfied: filelock in /usr/local/lib/python3.10/dist-packages (from torch) (3.16.1)\n",
            "Requirement already satisfied: typing-extensions>=4.8.0 in /usr/local/lib/python3.10/dist-packages (from torch) (4.12.2)\n",
            "Requirement already satisfied: sympy in /usr/local/lib/python3.10/dist-packages (from torch) (1.13.3)\n",
            "Requirement already satisfied: networkx in /usr/local/lib/python3.10/dist-packages (from torch) (3.4)\n",
            "Requirement already satisfied: jinja2 in /usr/local/lib/python3.10/dist-packages (from torch) (3.1.4)\n",
            "Requirement already satisfied: fsspec in /usr/local/lib/python3.10/dist-packages (from torch) (2024.6.1)\n",
            "Requirement already satisfied: numpy in /usr/local/lib/python3.10/dist-packages (from torchvision) (1.26.4)\n",
            "Requirement already satisfied: pillow!=8.3.*,>=5.3.0 in /usr/local/lib/python3.10/dist-packages (from torchvision) (10.4.0)\n",
            "Requirement already satisfied: tqdm in /usr/local/lib/python3.10/dist-packages (from torchtext) (4.66.5)\n",
            "Requirement already satisfied: requests in /usr/local/lib/python3.10/dist-packages (from torchtext) (2.32.3)\n",
            "Requirement already satisfied: urllib3>=1.25 in /usr/local/lib/python3.10/dist-packages (from torchdata) (2.2.3)\n",
            "Requirement already satisfied: huggingface-hub<1.0,>=0.23.2 in /usr/local/lib/python3.10/dist-packages (from transformers) (0.24.7)\n",
            "Requirement already satisfied: packaging>=20.0 in /usr/local/lib/python3.10/dist-packages (from transformers) (24.1)\n",
            "Requirement already satisfied: pyyaml>=5.1 in /usr/local/lib/python3.10/dist-packages (from transformers) (6.0.2)\n",
            "Requirement already satisfied: regex!=2019.12.17 in /usr/local/lib/python3.10/dist-packages (from transformers) (2024.9.11)\n",
            "Requirement already satisfied: safetensors>=0.4.1 in /usr/local/lib/python3.10/dist-packages (from transformers) (0.4.5)\n",
            "Requirement already satisfied: tokenizers<0.20,>=0.19 in /usr/local/lib/python3.10/dist-packages (from transformers) (0.19.1)\n",
            "Requirement already satisfied: MarkupSafe>=2.0 in /usr/local/lib/python3.10/dist-packages (from jinja2->torch) (3.0.1)\n",
            "Requirement already satisfied: charset-normalizer<4,>=2 in /usr/local/lib/python3.10/dist-packages (from requests->torchtext) (3.4.0)\n",
            "Requirement already satisfied: idna<4,>=2.5 in /usr/local/lib/python3.10/dist-packages (from requests->torchtext) (3.10)\n",
            "Requirement already satisfied: certifi>=2017.4.17 in /usr/local/lib/python3.10/dist-packages (from requests->torchtext) (2024.8.30)\n",
            "Requirement already satisfied: mpmath<1.4,>=1.1.0 in /usr/local/lib/python3.10/dist-packages (from sympy->torch) (1.3.0)\n",
            "Downloading bitsandbytes-0.44.1-py3-none-manylinux_2_24_x86_64.whl (122.4 MB)\n",
            "\u001b[2K   \u001b[90m━━━━━━━━━━━━━━━━━━━━━━━━━━━━━━━━━━━━━━━━\u001b[0m \u001b[32m122.4/122.4 MB\u001b[0m \u001b[31m8.6 MB/s\u001b[0m eta \u001b[36m0:00:00\u001b[0m\n",
            "\u001b[?25hInstalling collected packages: bitsandbytes\n",
            "Successfully installed bitsandbytes-0.44.1\n"
          ]
        }
      ],
      "source": [
        "!pip install torch torchaudio torchvision torchtext torchdata transformers bitsandbytes"
      ]
    },
    {
      "cell_type": "code",
      "source": [
        "import numpy as np\n",
        "import os"
      ],
      "metadata": {
        "id": "3wOizgGugDHe"
      },
      "execution_count": 5,
      "outputs": []
    },
    {
      "cell_type": "markdown",
      "source": [
        "A neural network is a combination of multiple neurons connected together.\n",
        "\n",
        "Here is a simple neural network:\n",
        "![](https://cdn.rawgit.com/leoloman/intro-pytorch-nn/main/network.svg)\n",
        "\n",
        "This network has 2 inputs, a hidden layer with 2 neurons and an output layer with a single neuron.\n",
        "\n",
        "Lets take a worked example with the network, lets assume all neurons have the same weights and bias and the same sigmoid activation function.\n",
        "\n",
        "$$\n",
        "w = [0,1]\n",
        "$$\n",
        "$$\n",
        "b = 0\n",
        "$$\n",
        "\n",
        "$$\n",
        "h_{1} = h_{2} = f(w \\cdot x +b)\n",
        "$$\n",
        "\n",
        "$$\n",
        "f((0 * 2) + (1*3) + 0) = 0.9526\n",
        "$$\n",
        "\n",
        "$$\n",
        "o_{1} = f(w \\cdot [h_{1}, h_{2}] + b)\n",
        "$$\n",
        "\n",
        "$$\n",
        "f(( 0 *0.9526) + ( 1 * 0.9526) + 0)\n",
        "$$\n",
        "\n",
        "$$\n",
        "f(0.9526) = 0.7216\n",
        "$$\n"
      ],
      "metadata": {
        "id": "wlTrE7obiSHQ"
      }
    },
    {
      "cell_type": "code",
      "source": [
        "class NeuralNetwork:\n",
        "  \"\"\"\n",
        "  A neural network with:\n",
        "    - 2 inputs\n",
        "    - a hidden layer with 2 neurons (h1, h2)\n",
        "    - an output layer with 1 neuron (o1)\n",
        "\n",
        "  Each neuron has the same weights and bias:\n",
        "    - w = [0,1]\n",
        "    - b = 0\n",
        "  \"\"\"\n",
        "\n",
        "  def __init__(self):\n",
        "    weights = np.array([0,1])\n",
        "    bias = 0\n",
        "\n",
        "    self.h1 = Neuron(weights, bias)\n",
        "    self.h2 = Neuron(weights, bias)\n",
        "    self.o1 = Neuron(weights, bias)\n",
        "\n",
        "  def feedforward(self, x):\n",
        "    out_h1 = self.h1.feedforward(x)\n",
        "    out_h2 = self.h2.feedforward(x)\n",
        "\n",
        "    # The inputs for o1 are the outputs from h1 and h2\n",
        "    out_o1 = self.o1.feedforward(np.array([out_h1, out_h2]))\n",
        "\n",
        "    return out_o1\n",
        "\n",
        "network = NeuralNetwork()\n",
        "x = np.array([2, 3])\n",
        "print(network.feedforward(x))\n"
      ],
      "metadata": {
        "id": "UiX0uPBKiK2N",
        "colab": {
          "base_uri": "https://localhost:8080/"
        },
        "outputId": "43131ba0-afb2-45b4-d231-31bce4d2c09f"
      },
      "execution_count": 6,
      "outputs": [
        {
          "output_type": "stream",
          "name": "stdout",
          "text": [
            "0.7216325609518421\n"
          ]
        }
      ]
    },
    {
      "cell_type": "markdown",
      "source": [
        "Training a neural network"
      ],
      "metadata": {
        "id": "gk2_CWpt4QL1"
      }
    },
    {
      "cell_type": "code",
      "source": [
        "data_to_train = {'name': ['Alice', 'Bob', 'Charlie', 'Diana'],\n",
        "                 'weight': [133, 160, 152, 120],\n",
        "                 'height':[65, 72, 70, 60],\n",
        "                 'sex' : ['F', 'M', 'M', 'F']}"
      ],
      "metadata": {
        "id": "EPLBlEM34Ofp"
      },
      "execution_count": 7,
      "outputs": []
    },
    {
      "cell_type": "code",
      "source": [
        "data_to_train['weight'] = [(x - np.mean(data_to_train['weight']))/np.std(data_to_train['weight']) for x in data_to_train['weight']]\n",
        "data_to_train['height'] = [(x - np.mean(data_to_train['height']))/np.std(data_to_train['height']) for x in data_to_train['height']]\n",
        "data_to_train['sex'] = [1 if x == 'F' else 0 for x in data_to_train['sex']]"
      ],
      "metadata": {
        "id": "B7lZ7EbJ4Pal"
      },
      "execution_count": 8,
      "outputs": []
    },
    {
      "cell_type": "markdown",
      "source": [
        "Training a neural network\n",
        "\n",
        "When training a neural network you can decide to use various metrics to define how well your neural network fits to data, this is defined as Loss.\n",
        "\n",
        "In this case we will use the Mean Squared Error to fit the neural network to data\n",
        "\n",
        "The mean squared error is defined as\n",
        "\n",
        "$$\n",
        "MSE = \\frac{1}{n} \\sum(y_{true} - y_{pred})^2\n",
        "$$\n",
        "\n",
        "Where broken down:\n",
        "- $n$ is the number of samples in your data\n",
        "- $y$ represents an observed value\n",
        "- $y_{true}$ is your observed data\n",
        "- $y_{pred}$ is your neural networks predicted value\n",
        "\n",
        "$(y_{true} - y_{pred})^2$ is the squared error between the observed and predicted value, then you simply take the mean of all of these."
      ],
      "metadata": {
        "id": "KpZ-ZC8ZSX6s"
      }
    },
    {
      "cell_type": "code",
      "source": [
        "def mse(y_true, y_pred):\n",
        "  \"\"\"\n",
        "  Mean squared error\n",
        "  \"\"\"\n",
        "  return np.mean(np.power(y_true - y_pred, 2))"
      ],
      "metadata": {
        "id": "gKcBzzNwSXy3"
      },
      "execution_count": 9,
      "outputs": []
    },
    {
      "cell_type": "markdown",
      "source": [
        "The loss function can be written as a muli-variable function:\n",
        "\n",
        "$$\n",
        "L(w_{1}, w_{2}, w_{3}, w_{4}, w_{5}, w_{6}, b_{1}, b_{2}, b_{3})\n",
        "$$\n",
        "\n",
        "Now imagine we want to tweak $w_{1}$, how would the Loss change if we changed $w_{1}$? The partial derivative $\\frac{\\partial L}{\\partial w_{1}}$ can answer.\n",
        "\n",
        "To start we will write the partial derivative in terms of $\\frac{\\partial y_{pred}}{\\partial w_{1}}$ instead:\n",
        "\n",
        "$$\n",
        "\\frac{\\partial L}{\\partial w_{1}} = \\frac{\\partial L}{\\partial y_{pred}} * \\frac{\\partial y_{pred}}{\\partial w_{1}}\n",
        "$$\n",
        "\n",
        "We can calculate $\\frac{\\partial L}{\\partial y_{pred}}$  as $L = \\sum(y_{true} - y_{pred})^2$\n",
        "$$\n",
        "\\frac{\\partial L}{\\partial y_{pred}} = \\frac{\\partial (y_{true} - y_{pred})^2}{\\partial y_{pred}} = -2(y_{true} - y_{pred})\n",
        "$$\n",
        "\n",
        "Now we need to break down\n",
        "\n",
        "$$\n",
        "\\frac{\\partial y_{pred}}{\\partial w_{1}}\n",
        "$$\n",
        "\n",
        "Now $h_{1}, h_{2}, o_{1}$ will represent their neurons then\n",
        "\n",
        "$$\n",
        "y_{pred} = o_{1} = f(w_{5} h_{1} + w_{6} h_{2} +b_{3})\n",
        "$$\n",
        "\n",
        "Where $f$ is the sigmoid activation function.\n",
        "\n",
        "Since $w_{1}$ only affects $h_{1}$ not $h_{2}$, we can write.\n",
        "\n",
        "$$\n",
        "\\frac{\\partial y_{pred}}{\\partial w_{1}} = \\frac{\\partial y_{pred}}{\\partial h_{1}} * \\frac{\\partial h_{1}}{\\partial w_{1}}\n",
        "$$\n",
        "\n",
        "$$\n",
        "\\frac{\\partial y_{pred}}{\\partial h_{1}} = w_{5} * f'(w_{5} h_{1} + w_{6} h_{2} + b_{3})\n",
        "$$\n",
        "\n",
        "Then we will do the same thing for $\\frac{\\partial h_{1}}{\\partial w_{1}}$:\n",
        "\n",
        "$$\n",
        "h_{1} = f(w_{1} x_{1} + w_{2} x_{2} + b_{1})\n",
        "$$\n",
        "\n",
        "$$\n",
        "\\frac{\\partial h_{1}}{\\partial w_{1}} = x_{1} * f'(w_{1} x_{1} + w_{2} x_{2} + b_{1})\n",
        "$$\n",
        "\n",
        "Where $x_{1}$ is the weight and $x_{2}$ is the height. Included in the above equations is $f'$ which is the derivative of the sigmoid function:\n",
        "\n",
        "$$\n",
        "f'(x) = \\frac{e^{-x}}{(1 + e^{-x})^2}\n",
        "$$\n",
        "\n",
        "Now $\\frac{\\partial L}{\\partial w_{1}}$ has been broken down into several manageable parts which can be calculated.\n",
        "\n",
        "$$\n",
        "\\frac{\\partial L}{\\partial w_{1}} = \\frac{\\partial L}{\\partial y_{pred}} * \\frac{\\partial y_{pred}}{\\partial h_{1}} * \\frac{\\partial h_{1}}{\\partial w_{1}}\n",
        "$$\n",
        "\n",
        "Keep in mind this was just for altering $w_{1}$ but the process would be similar for the subsequent values. The system for calculating these partial derivatives by working backwards is known as backpropagation or 'backprop'.\n",
        "\n",
        "Training: Stochastic Gradient Descent\n",
        "\n",
        "In the following example we will use a method of training called 'Stochastic Gradient Descent' but there are many different ways of training neural networks. SGD tells us how to change the weights and bias to minimize the loss. There is the following update equation:\n",
        "\n",
        "$$\n",
        "w_{1} \\leftarrow w_{1} - \\eta \\frac{\\partial L}{\\partial w_{1}}\n",
        "$$\n",
        "\n",
        "$\\eta$ is a constant value called the learning rate which controls how fast the model can be trained. The above term is subtracted from $w_{1}$, if the above term is positive  then $w_{1}$ will decrease which will make $L$ decrease. If negative then $w_{1}$ will increase and so will $L$.\n",
        "\n",
        "\n",
        "The training process is as follows:\n",
        "1. Choose a sample from the dataset.\n",
        "2. Calculate all the partial derivatives of loss with respect to weight or bias\n",
        "3. Use the update equation to update the weight or bias\n",
        "4. Go back to step 1 until either convergence or a set number of epochs has been met."
      ],
      "metadata": {
        "id": "uPOsKZTHVI1D"
      }
    },
    {
      "cell_type": "code",
      "source": [
        "def deriv_sigmoid(x):\n",
        "  # Derivative of sigmoid: f'(x) = f(x) * (1 - f(x))\n",
        "  fx = sigmoid(x)\n",
        "  return fx * (1 - fx)\n",
        "\n",
        "class NeuralNetwork:\n",
        "  '''\n",
        "  A neural network with:\n",
        "    - 2 inputs\n",
        "    - a hidden layer with 2 neurons (h1, h2)\n",
        "    - an output layer with 1 neuron (o1)\n",
        "\n",
        "  *** DISCLAIMER ***:\n",
        "  The code below is intended to be simple and educational, NOT optimal.\n",
        "  Real neural net code looks nothing like this. DO NOT use this code.\n",
        "  Instead, read/run it to understand how this specific network works.\n",
        "  '''\n",
        "  def __init__(self):\n",
        "    # Weights\n",
        "    self.w1 = np.random.normal()\n",
        "    self.w2 = np.random.normal()\n",
        "    self.w3 = np.random.normal()\n",
        "    self.w4 = np.random.normal()\n",
        "    self.w5 = np.random.normal()\n",
        "    self.w6 = np.random.normal()\n",
        "\n",
        "    # Biases\n",
        "    self.b1 = np.random.normal()\n",
        "    self.b2 = np.random.normal()\n",
        "    self.b3 = np.random.normal()\n",
        "\n",
        "  def feedforward(self, x):\n",
        "    # x is a numpy array with 2 elements.\n",
        "    h1 = sigmoid(self.w1 * x[0] + self.w2 * x[1] + self.b1)\n",
        "    h2 = sigmoid(self.w3 * x[0] + self.w4 * x[1] + self.b2)\n",
        "    o1 = sigmoid(self.w5 * h1 + self.w6 * h2 + self.b3)\n",
        "    return o1\n",
        "\n",
        "  def train(self, data, all_y_trues):\n",
        "    '''\n",
        "    - data is a (n x 2) numpy array, n = # of samples in the dataset.\n",
        "    - all_y_trues is a numpy array with n elements.\n",
        "      Elements in all_y_trues correspond to those in data.\n",
        "    '''\n",
        "    learn_rate = 0.1\n",
        "    epochs = 1000 # number of times to loop through the entire dataset\n",
        "    self.loss = []\n",
        "\n",
        "    for epoch in range(epochs):\n",
        "      for x, y_true in zip(data, all_y_trues):\n",
        "        # --- Do a feedforward (we'll need these values later)\n",
        "        sum_h1 = self.w1 * x[0] + self.w2 * x[1] + self.b1\n",
        "        h1 = sigmoid(sum_h1)\n",
        "\n",
        "        sum_h2 = self.w3 * x[0] + self.w4 * x[1] + self.b2\n",
        "        h2 = sigmoid(sum_h2)\n",
        "\n",
        "        sum_o1 = self.w5 * h1 + self.w6 * h2 + self.b3\n",
        "        o1 = sigmoid(sum_o1)\n",
        "        y_pred = o1\n",
        "\n",
        "        # --- Calculate partial derivatives.\n",
        "        # --- Naming: d_L_d_w1 represents \"partial L / partial w1\"\n",
        "        d_L_d_ypred = -2 * (y_true - y_pred)\n",
        "\n",
        "        # Neuron o1\n",
        "        d_ypred_d_w5 = h1 * deriv_sigmoid(sum_o1)\n",
        "        d_ypred_d_w6 = h2 * deriv_sigmoid(sum_o1)\n",
        "        d_ypred_d_b3 = deriv_sigmoid(sum_o1)\n",
        "\n",
        "        d_ypred_d_h1 = self.w5 * deriv_sigmoid(sum_o1)\n",
        "        d_ypred_d_h2 = self.w6 * deriv_sigmoid(sum_o1)\n",
        "\n",
        "        # Neuron h1\n",
        "        d_h1_d_w1 = x[0] * deriv_sigmoid(sum_h1)\n",
        "        d_h1_d_w2 = x[1] * deriv_sigmoid(sum_h1)\n",
        "        d_h1_d_b1 = deriv_sigmoid(sum_h1)\n",
        "\n",
        "        # Neuron h2\n",
        "        d_h2_d_w3 = x[0] * deriv_sigmoid(sum_h2)\n",
        "        d_h2_d_w4 = x[1] * deriv_sigmoid(sum_h2)\n",
        "        d_h2_d_b2 = deriv_sigmoid(sum_h2)\n",
        "\n",
        "        # --- Update weights and biases\n",
        "        # Neuron h1\n",
        "        self.w1 -= learn_rate * d_L_d_ypred * d_ypred_d_h1 * d_h1_d_w1\n",
        "        self.w2 -= learn_rate * d_L_d_ypred * d_ypred_d_h1 * d_h1_d_w2\n",
        "        self.b1 -= learn_rate * d_L_d_ypred * d_ypred_d_h1 * d_h1_d_b1\n",
        "\n",
        "        # Neuron h2\n",
        "        self.w3 -= learn_rate * d_L_d_ypred * d_ypred_d_h2 * d_h2_d_w3\n",
        "        self.w4 -= learn_rate * d_L_d_ypred * d_ypred_d_h2 * d_h2_d_w4\n",
        "        self.b2 -= learn_rate * d_L_d_ypred * d_ypred_d_h2 * d_h2_d_b2\n",
        "\n",
        "        # Neuron o1\n",
        "        self.w5 -= learn_rate * d_L_d_ypred * d_ypred_d_w5\n",
        "        self.w6 -= learn_rate * d_L_d_ypred * d_ypred_d_w6\n",
        "        self.b3 -= learn_rate * d_L_d_ypred * d_ypred_d_b3\n",
        "\n",
        "      # --- Calculate total loss at the end of each epoch\n",
        "      if epoch % 10 == 0:\n",
        "        y_preds = np.apply_along_axis(self.feedforward, 1, data)\n",
        "\n",
        "        loss = mse(all_y_trues, y_preds)\n",
        "        if epoch % 100 == 0:\n",
        "          print(\"Epoch %d loss: %.3f\" % (epoch, loss))\n",
        "        self.loss.append([epoch, loss])\n",
        "\n",
        "# prompt: can you reshape data_to_train into a matrix, can you use base python\n",
        "\n",
        "data_matrix = []\n",
        "for i in range(len(data_to_train['name'])):\n",
        "  row = np.array([data_to_train['weight'][i], data_to_train['height'][i]])\n",
        "  data_matrix.append(row)\n",
        "\n",
        "# Define dataset\n",
        "data = np.array(data_matrix)\n",
        "all_y_trues = np.array(data_to_train['sex'])\n",
        "\n",
        "\n",
        "# Train our neural network!\n",
        "network = NeuralNetwork()\n",
        "network.train(data, all_y_trues)"
      ],
      "metadata": {
        "colab": {
          "base_uri": "https://localhost:8080/"
        },
        "id": "vYkxsSuX5b2K",
        "outputId": "adf297bf-3fc9-438e-c9db-2fa57bd647c1"
      },
      "execution_count": 10,
      "outputs": [
        {
          "output_type": "stream",
          "name": "stdout",
          "text": [
            "Epoch 0 loss: 0.365\n",
            "Epoch 100 loss: 0.090\n",
            "Epoch 200 loss: 0.035\n",
            "Epoch 300 loss: 0.020\n",
            "Epoch 400 loss: 0.013\n",
            "Epoch 500 loss: 0.009\n",
            "Epoch 600 loss: 0.007\n",
            "Epoch 700 loss: 0.006\n",
            "Epoch 800 loss: 0.005\n",
            "Epoch 900 loss: 0.004\n"
          ]
        }
      ]
    },
    {
      "cell_type": "code",
      "source": [
        "import matplotlib.pyplot as plt"
      ],
      "metadata": {
        "id": "YKBY2ir9Yxt3"
      },
      "execution_count": 11,
      "outputs": []
    },
    {
      "cell_type": "code",
      "source": [
        "plt.plot([x[0] for x in network.loss], [x[1] for x in network.loss])\n",
        "plt.xlabel('Epochs')\n",
        "plt.ylabel('Loss')\n",
        "plt.title('Loss over Epochs')\n",
        "plt.show()"
      ],
      "metadata": {
        "colab": {
          "base_uri": "https://localhost:8080/",
          "height": 472
        },
        "id": "dt6MJNnCYyGC",
        "outputId": "7044b279-e947-4355-f027-b786f27ffe1f"
      },
      "execution_count": 12,
      "outputs": [
        {
          "output_type": "display_data",
          "data": {
            "text/plain": [
              "<Figure size 640x480 with 1 Axes>"
            ],
            "image/png": "[encoded data removed]"
          },
          "metadata": {}
        }
      ]
    },
    {
      "cell_type": "code",
      "source": [
        "# Make some predictions\n",
        "jessica = np.array([-7, -3]) # 128 pounds, 63 inches\n",
        "adam = np.array([20, 2])  # 155 pounds, 68 inches\n",
        "print(\"Jessica: %.3f\" % network.feedforward(jessica)) # F\n",
        "print(\"Adam: %.3f\" % network.feedforward(adam)) # M"
      ],
      "metadata": {
        "id": "SsaY0v4TiQ0k",
        "colab": {
          "base_uri": "https://localhost:8080/"
        },
        "outputId": "08ad8a70-545c-4bc1-e752-c83ad52c80d1"
      },
      "execution_count": 13,
      "outputs": [
        {
          "output_type": "stream",
          "name": "stdout",
          "text": [
            "Jessica: 0.947\n",
            "Adam: 0.028\n"
          ]
        }
      ]
    },
    {
      "cell_type": "markdown",
      "source": [
        "# PyTorch\n",
        "\n",
        "PyTorch has become the industry standard package for developing and loading and running inference with neural networks / large language models\n",
        "\n",
        "\n",
        "https://pytorch.org/"
      ],
      "metadata": {
        "id": "9pI1Lz9XjdNw"
      }
    },
    {
      "cell_type": "code",
      "source": [
        "!nvidia-smi"
      ],
      "metadata": {
        "colab": {
          "base_uri": "https://localhost:8080/"
        },
        "id": "Qa6GQzYudxkF",
        "outputId": "8546c4ef-5141-462c-b7a5-c6ad90312da8"
      },
      "execution_count": 19,
      "outputs": [
        {
          "output_type": "stream",
          "name": "stdout",
          "text": [
            "Tue Oct 15 09:16:41 2024       \n",
            "+---------------------------------------------------------------------------------------+\n",
            "| NVIDIA-SMI 535.104.05             Driver Version: 535.104.05   CUDA Version: 12.2     |\n",
            "|-----------------------------------------+----------------------+----------------------+\n",
            "| GPU  Name                 Persistence-M | Bus-Id        Disp.A | Volatile Uncorr. ECC |\n",
            "| Fan  Temp   Perf          Pwr:Usage/Cap |         Memory-Usage | GPU-Util  Compute M. |\n",
            "|                                         |                      |               MIG M. |\n",
            "|=========================================+======================+======================|\n",
            "|   0  Tesla T4                       Off | 00000000:00:04.0 Off |                    0 |\n",
            "| N/A   39C    P8               9W /  70W |      3MiB / 15360MiB |      0%      Default |\n",
            "|                                         |                      |                  N/A |\n",
            "+-----------------------------------------+----------------------+----------------------+\n",
            "                                                                                         \n",
            "+---------------------------------------------------------------------------------------+\n",
            "| Processes:                                                                            |\n",
            "|  GPU   GI   CI        PID   Type   Process name                            GPU Memory |\n",
            "|        ID   ID                                                             Usage      |\n",
            "|=======================================================================================|\n",
            "|  No running processes found                                                           |\n",
            "+---------------------------------------------------------------------------------------+\n"
          ]
        }
      ]
    },
    {
      "cell_type": "code",
      "source": [
        "import torch\n",
        "import math\n",
        "from torch import nn\n",
        "from torch.utils.data import DataLoader\n",
        "from torchvision import datasets, transforms"
      ],
      "metadata": {
        "id": "x6d6mf95iKWe"
      },
      "execution_count": 14,
      "outputs": []
    },
    {
      "cell_type": "markdown",
      "source": [
        "PyTorch allows the user to use different devices:\n",
        "- \"cuda\" - Nvidia GPU\n",
        "- \"mps\" - Apple Metal Performance Shaders (m series macs)\n",
        "- \"cpu\""
      ],
      "metadata": {
        "id": "OEGUrj85joji"
      }
    },
    {
      "cell_type": "code",
      "source": [
        "device = (\n",
        "    \"cuda\"\n",
        "    if torch.cuda.is_available() # this checks whether a gpu is available\n",
        "    else \"mps\"\n",
        "    if torch.backends.mps.is_available() # this is for apple m1 chips\n",
        "    else \"cpu\"\n",
        ")\n",
        "print(f\"Using {device} device\")"
      ],
      "metadata": {
        "colab": {
          "base_uri": "https://localhost:8080/"
        },
        "id": "KNko1LmCgEjQ",
        "outputId": "880c4474-b255-46fb-d782-a6caa8fe8489"
      },
      "execution_count": 15,
      "outputs": [
        {
          "output_type": "stream",
          "name": "stdout",
          "text": [
            "Using cuda device\n"
          ]
        }
      ]
    },
    {
      "cell_type": "code",
      "source": [],
      "metadata": {
        "id": "NJPFUFUScNx_"
      },
      "execution_count": null,
      "outputs": []
    },
    {
      "cell_type": "code",
      "source": [
        "# Create Tensors to hold input and outputs.\n",
        "x = torch.linspace(-math.pi, math.pi, 2000)\n",
        "y = torch.sin(x)\n",
        "\n",
        "# For this example, the output y is a linear function of (x, x^2, x^3), so\n",
        "# we can consider it as a linear layer neural network. Let's prepare the\n",
        "# tensor (x, x^2, x^3).\n",
        "p = torch.tensor([1, 2, 3])\n",
        "xx = x.unsqueeze(-1).pow(p)\n",
        "\n",
        "# In the above code, x.unsqueeze(-1) has shape (2000, 1), and p has shape\n",
        "# (3,), for this case, broadcasting semantics will apply to obtain a tensor\n",
        "# of shape (2000, 3)\n",
        "\n",
        "# Use the nn package to define our model as a sequence of layers. nn.Sequential\n",
        "# is a Module which contains other Modules, and applies them in sequence to\n",
        "# produce its output. The Linear Module computes output from input using a\n",
        "# linear function, and holds internal Tensors for its weight and bias.\n",
        "# The Flatten layer flatens the output of the linear layer to a 1D tensor,\n",
        "# to match the shape of `y`.\n",
        "model = torch.nn.Sequential(\n",
        "    torch.nn.Linear(3, 1),\n",
        "    torch.nn.Flatten(0, 1)\n",
        ")\n",
        "\n",
        "# The nn package also contains definitions of popular loss functions; in this\n",
        "# case we will use Mean Squared Error (MSE) as our loss function.\n",
        "loss_fn = torch.nn.MSELoss(reduction='sum')\n",
        "\n",
        "learning_rate = 1e-6\n",
        "for t in range(2000):\n",
        "\n",
        "    # Forward pass: compute predicted y by passing x to the model. Module objects\n",
        "    # override the __call__ operator so you can call them like functions. When\n",
        "    # doing so you pass a Tensor of input data to the Module and it produces\n",
        "    # a Tensor of output data.\n",
        "    y_pred = model(xx)\n",
        "\n",
        "    # Compute and print loss. We pass Tensors containing the predicted and true\n",
        "    # values of y, and the loss function returns a Tensor containing the\n",
        "    # loss.\n",
        "    loss = loss_fn(y_pred, y)\n",
        "    if t % 100 == 99:\n",
        "        print(t, loss.item())\n",
        "\n",
        "    # Zero the gradients before running the backward pass.\n",
        "    model.zero_grad()\n",
        "\n",
        "    # Backward pass: compute gradient of the loss with respect to all the learnable\n",
        "    # parameters of the model. Internally, the parameters of each Module are stored\n",
        "    # in Tensors with requires_grad=True, so this call will compute gradients for\n",
        "    # all learnable parameters in the model.\n",
        "    loss.backward()\n",
        "\n",
        "    # Update the weights using gradient descent. Each parameter is a Tensor, so\n",
        "    # we can access its gradients like we did before.\n",
        "    with torch.no_grad():\n",
        "        for param in model.parameters():\n",
        "            param -= learning_rate * param.grad\n",
        "\n",
        "# You can access the first layer of `model` like accessing the first item of a list\n",
        "linear_layer = model[0]\n",
        "\n",
        "# For linear layer, its parameters are stored as `weight` and `bias`.\n",
        "print(f'Result: y = {linear_layer.bias.item()} + {linear_layer.weight[:, 0].item()} x + {linear_layer.weight[:, 1].item()} x^2 + {linear_layer.weight[:, 2].item()} x^3')"
      ],
      "metadata": {
        "id": "7zrKarRxhIno",
        "colab": {
          "base_uri": "https://localhost:8080/"
        },
        "outputId": "3b67460a-fa14-4f92-fe0b-c9dea8ddd224"
      },
      "execution_count": 16,
      "outputs": [
        {
          "output_type": "stream",
          "name": "stdout",
          "text": [
            "99 265.8453674316406\n",
            "199 179.88084411621094\n",
            "299 122.7143325805664\n",
            "399 84.68437957763672\n",
            "499 59.37547302246094\n",
            "599 42.52561569213867\n",
            "699 31.30276107788086\n",
            "799 23.824373245239258\n",
            "899 18.838787078857422\n",
            "999 15.513387680053711\n",
            "1099 13.294169425964355\n",
            "1199 11.81234073638916\n",
            "1299 10.822325706481934\n",
            "1399 10.160476684570312\n",
            "1499 9.71776008605957\n",
            "1599 9.421399116516113\n",
            "1699 9.22288703918457\n",
            "1799 9.089813232421875\n",
            "1899 9.000540733337402\n",
            "1999 8.940607070922852\n",
            "Result: y = -0.006111369468271732 + 0.8475133776664734 x + 0.0010543126845732331 x^2 + -0.09201786667108536 x^3\n"
          ]
        }
      ]
    },
    {
      "cell_type": "markdown",
      "source": [
        "# Loading Large Language Model onto GPU"
      ],
      "metadata": {
        "id": "Yz8X1DRBgbfU"
      }
    },
    {
      "cell_type": "code",
      "source": [
        "  from transformers import AutoTokenizer, AutoModelForCausalLM,BitsAndBytesConfig\n",
        "import transformers"
      ],
      "metadata": {
        "id": "MpX3gPDYe87-"
      },
      "execution_count": 30,
      "outputs": []
    },
    {
      "cell_type": "code",
      "source": [
        "# model_name = \"tiiuae/falcon-7b-instruct\"\n",
        "\n",
        "# tokenizer = AutoTokenizer.from_pretrained(model)\n",
        "\n",
        "# model = AutoModelForCausalLM.from_pretrained(model_name,\n",
        "#                                              quantization_config=BitsAndBytesConfig(load_in_8bit=True),  # Enable 8-bit quantization\n",
        "#                                              device_map=\"auto\",  # Auto-assign GPUs\n",
        "#                                              trust_remote_code=True)\n",
        "\n",
        "# falcon_pipeline = transformers.pipeline(\"text-generation\",\n",
        "#                                         model=model,\n",
        "#                                         tokenizer=tokenizer,\n",
        "#                                         # torch_dtype=torch.bfloat16,\n",
        "#                                         # trust_remote_code=True,\n",
        "#                                         # device_map=\"auto\"\n",
        "#                                         )"
      ],
      "metadata": {
        "id": "r9IjCH-3v6Dh"
      },
      "execution_count": null,
      "outputs": []
    },
    {
      "cell_type": "code",
      "source": [
        "model = \"tiiuae/falcon-7b-instruct\"\n",
        "tokenizer = AutoTokenizer.from_pretrained(model)\n",
        "\n",
        "falcon_pipeline = transformers.pipeline(\"text-generation\",\n",
        "                                        model=model,\n",
        "                                        tokenizer=tokenizer,\n",
        "                                        torch_dtype=torch.bfloat16,\n",
        "                                        trust_remote_code=True,\n",
        "                                        device_map=\"auto\"\n",
        "                                        )"
      ],
      "metadata": {
        "colab": {
          "base_uri": "https://localhost:8080/",
          "height": 521
        },
        "id": "O_oLTxSxfQWp",
        "outputId": "1297bbe8-6708-4adb-dff9-08187958b629"
      },
      "execution_count": 34,
      "outputs": [
        {
          "output_type": "error",
          "ename": "ImportError",
          "evalue": "Using `bitsandbytes` 8-bit quantization requires the latest version of bitsandbytes: `pip install -U bitsandbytes`",
          "traceback": [
            "\u001b[0;31m---------------------------------------------------------------------------\u001b[0m",
            "\u001b[0;31mImportError\u001b[0m                               Traceback (most recent call last)",
            "\u001b[0;32m<ipython-input-34-ff034eb19727>\u001b[0m in \u001b[0;36m<cell line: 5>\u001b[0;34m()\u001b[0m\n\u001b[1;32m      3\u001b[0m \u001b[0mtokenizer\u001b[0m \u001b[0;34m=\u001b[0m \u001b[0mAutoTokenizer\u001b[0m\u001b[0;34m.\u001b[0m\u001b[0mfrom_pretrained\u001b[0m\u001b[0;34m(\u001b[0m\u001b[0mmodel\u001b[0m\u001b[0;34m)\u001b[0m\u001b[0;34m\u001b[0m\u001b[0;34m\u001b[0m\u001b[0m\n\u001b[1;32m      4\u001b[0m \u001b[0;34m\u001b[0m\u001b[0m\n\u001b[0;32m----> 5\u001b[0;31m model = AutoModelForCausalLM.from_pretrained(model_name,\n\u001b[0m\u001b[1;32m      6\u001b[0m                                              \u001b[0mquantization_config\u001b[0m\u001b[0;34m=\u001b[0m\u001b[0mBitsAndBytesConfig\u001b[0m\u001b[0;34m(\u001b[0m\u001b[0mload_in_8bit\u001b[0m\u001b[0;34m=\u001b[0m\u001b[0;32mTrue\u001b[0m\u001b[0;34m)\u001b[0m\u001b[0;34m,\u001b[0m  \u001b[0;31m# Enable 8-bit quantization\u001b[0m\u001b[0;34m\u001b[0m\u001b[0;34m\u001b[0m\u001b[0m\n\u001b[1;32m      7\u001b[0m                                              \u001b[0mdevice_map\u001b[0m\u001b[0;34m=\u001b[0m\u001b[0;34m\"auto\"\u001b[0m\u001b[0;34m,\u001b[0m  \u001b[0;31m# Auto-assign GPUs\u001b[0m\u001b[0;34m\u001b[0m\u001b[0;34m\u001b[0m\u001b[0m\n",
            "\u001b[0;32m/usr/local/lib/python3.10/dist-packages/transformers/models/auto/auto_factory.py\u001b[0m in \u001b[0;36mfrom_pretrained\u001b[0;34m(cls, pretrained_model_name_or_path, *model_args, **kwargs)\u001b[0m\n\u001b[1;32m    557\u001b[0m             \u001b[0;32melse\u001b[0m\u001b[0;34m:\u001b[0m\u001b[0;34m\u001b[0m\u001b[0;34m\u001b[0m\u001b[0m\n\u001b[1;32m    558\u001b[0m                 \u001b[0mcls\u001b[0m\u001b[0;34m.\u001b[0m\u001b[0mregister\u001b[0m\u001b[0;34m(\u001b[0m\u001b[0mconfig\u001b[0m\u001b[0;34m.\u001b[0m\u001b[0m__class__\u001b[0m\u001b[0;34m,\u001b[0m \u001b[0mmodel_class\u001b[0m\u001b[0;34m,\u001b[0m \u001b[0mexist_ok\u001b[0m\u001b[0;34m=\u001b[0m\u001b[0;32mTrue\u001b[0m\u001b[0;34m)\u001b[0m\u001b[0;34m\u001b[0m\u001b[0;34m\u001b[0m\u001b[0m\n\u001b[0;32m--> 559\u001b[0;31m             return model_class.from_pretrained(\n\u001b[0m\u001b[1;32m    560\u001b[0m                 \u001b[0mpretrained_model_name_or_path\u001b[0m\u001b[0;34m,\u001b[0m \u001b[0;34m*\u001b[0m\u001b[0mmodel_args\u001b[0m\u001b[0;34m,\u001b[0m \u001b[0mconfig\u001b[0m\u001b[0;34m=\u001b[0m\u001b[0mconfig\u001b[0m\u001b[0;34m,\u001b[0m \u001b[0;34m**\u001b[0m\u001b[0mhub_kwargs\u001b[0m\u001b[0;34m,\u001b[0m \u001b[0;34m**\u001b[0m\u001b[0mkwargs\u001b[0m\u001b[0;34m\u001b[0m\u001b[0;34m\u001b[0m\u001b[0m\n\u001b[1;32m    561\u001b[0m             )\n",
            "\u001b[0;32m/usr/local/lib/python3.10/dist-packages/transformers/modeling_utils.py\u001b[0m in \u001b[0;36mfrom_pretrained\u001b[0;34m(cls, pretrained_model_name_or_path, config, cache_dir, ignore_mismatched_sizes, force_download, local_files_only, token, revision, use_safetensors, *model_args, **kwargs)\u001b[0m\n\u001b[1;32m   3396\u001b[0m \u001b[0;34m\u001b[0m\u001b[0m\n\u001b[1;32m   3397\u001b[0m         \u001b[0;32mif\u001b[0m \u001b[0mhf_quantizer\u001b[0m \u001b[0;32mis\u001b[0m \u001b[0;32mnot\u001b[0m \u001b[0;32mNone\u001b[0m\u001b[0;34m:\u001b[0m\u001b[0;34m\u001b[0m\u001b[0;34m\u001b[0m\u001b[0m\n\u001b[0;32m-> 3398\u001b[0;31m             hf_quantizer.validate_environment(\n\u001b[0m\u001b[1;32m   3399\u001b[0m                 \u001b[0mtorch_dtype\u001b[0m\u001b[0;34m=\u001b[0m\u001b[0mtorch_dtype\u001b[0m\u001b[0;34m,\u001b[0m \u001b[0mfrom_tf\u001b[0m\u001b[0;34m=\u001b[0m\u001b[0mfrom_tf\u001b[0m\u001b[0;34m,\u001b[0m \u001b[0mfrom_flax\u001b[0m\u001b[0;34m=\u001b[0m\u001b[0mfrom_flax\u001b[0m\u001b[0;34m,\u001b[0m \u001b[0mdevice_map\u001b[0m\u001b[0;34m=\u001b[0m\u001b[0mdevice_map\u001b[0m\u001b[0;34m\u001b[0m\u001b[0;34m\u001b[0m\u001b[0m\n\u001b[1;32m   3400\u001b[0m             )\n",
            "\u001b[0;32m/usr/local/lib/python3.10/dist-packages/transformers/quantizers/quantizer_bnb_8bit.py\u001b[0m in \u001b[0;36mvalidate_environment\u001b[0;34m(self, *args, **kwargs)\u001b[0m\n\u001b[1;32m     65\u001b[0m             \u001b[0;32mraise\u001b[0m \u001b[0mImportError\u001b[0m\u001b[0;34m(\u001b[0m\u001b[0;34m\"Using `bitsandbytes` 8-bit quantization requires Accelerate: `pip install accelerate`\"\u001b[0m\u001b[0;34m)\u001b[0m\u001b[0;34m\u001b[0m\u001b[0;34m\u001b[0m\u001b[0m\n\u001b[1;32m     66\u001b[0m         \u001b[0;32mif\u001b[0m \u001b[0;32mnot\u001b[0m \u001b[0mis_bitsandbytes_available\u001b[0m\u001b[0;34m(\u001b[0m\u001b[0;34m)\u001b[0m\u001b[0;34m:\u001b[0m\u001b[0;34m\u001b[0m\u001b[0;34m\u001b[0m\u001b[0m\n\u001b[0;32m---> 67\u001b[0;31m             raise ImportError(\n\u001b[0m\u001b[1;32m     68\u001b[0m                 \u001b[0;34m\"Using `bitsandbytes` 8-bit quantization requires the latest version of bitsandbytes: `pip install -U bitsandbytes`\"\u001b[0m\u001b[0;34m\u001b[0m\u001b[0;34m\u001b[0m\u001b[0m\n\u001b[1;32m     69\u001b[0m             )\n",
            "\u001b[0;31mImportError\u001b[0m: Using `bitsandbytes` 8-bit quantization requires the latest version of bitsandbytes: `pip install -U bitsandbytes`",
            "",
            "\u001b[0;31m---------------------------------------------------------------------------\u001b[0;32m\nNOTE: If your import is failing due to a missing package, you can\nmanually install dependencies using either !pip or !apt.\n\nTo view examples of installing some common dependencies, click the\n\"Open Examples\" button below.\n\u001b[0;31m---------------------------------------------------------------------------\u001b[0m\n"
          ],
          "errorDetails": {
            "actions": [
              {
                "action": "open_url",
                "actionText": "Open Examples",
                "url": "/notebooks/snippets/importing_libraries.ipynb"
              }
            ]
          }
        }
      ]
    },
    {
      "cell_type": "code",
      "source": [
        "!nvidia-smi"
      ],
      "metadata": {
        "id": "YXYfpLXjfXTc"
      },
      "execution_count": null,
      "outputs": []
    },
    {
      "cell_type": "code",
      "source": [
        "\n",
        "def get_completion_falcon(input):\n",
        "  system = f\"\"\"\n",
        "  You are an expert Physicist.\n",
        "  You are good at explaining Physics concepts in simple words.\n",
        "  Help as much as you can.\n",
        "  \"\"\"\n",
        "  prompt = f\"#### System: {system}\\n#### User: \\n{input}\\n\\n#### Response from falcon-7b-instruct:\"\n",
        "  print(prompt)\n",
        "  falcon_response = falcon_pipeline(prompt,\n",
        "                                    max_length=500,\n",
        "                                    do_sample=True,\n",
        "                                    top_k=10,\n",
        "                                    num_return_sequences=1,\n",
        "                                    eos_token_id=tokenizer.eos_token_id,\n",
        "                                    )\n",
        "  return falcon_response"
      ],
      "metadata": {
        "id": "BelKXy8IfShe"
      },
      "execution_count": 24,
      "outputs": []
    },
    {
      "cell_type": "code",
      "source": [
        "prompt = \"Explain to me the difference between nuclear fission and fusion.\"\n",
        "response = get_completion_falcon(prompt)\n",
        "print(response[0]['generated_text'])"
      ],
      "metadata": {
        "colab": {
          "base_uri": "https://localhost:8080/"
        },
        "id": "_w9-7uMgfS8J",
        "outputId": "bf543ff6-b565-4b60-c409-c473502b08e3"
      },
      "execution_count": 25,
      "outputs": [
        {
          "output_type": "stream",
          "name": "stderr",
          "text": [
            "Truncation was not explicitly activated but `max_length` is provided a specific value, please use `truncation=True` to explicitly truncate examples to max length. Defaulting to 'longest_first' truncation strategy. If you encode pairs of sequences (GLUE-style) with the tokenizer you can select this strategy more precisely by providing a specific strategy to `truncation`.\n",
            "Setting `pad_token_id` to `eos_token_id`:11 for open-end generation.\n"
          ]
        },
        {
          "output_type": "stream",
          "name": "stdout",
          "text": [
            "#### System: \n",
            "  You are an expert Physicist.\n",
            "  You are good at explaining Physics concepts in simple words.\n",
            "  Help as much as you can.\n",
            "  \n",
            "#### User: \n",
            "Explain to me the difference between nuclear fission and fusion.\n",
            "\n",
            "#### Response from falcon-7b-instruct:\n",
            "#### System: \n",
            "  You are an expert Physicist.\n",
            "  You are good at explaining Physics concepts in simple words.\n",
            "  Help as much as you can.\n",
            "  \n",
            "#### User: \n",
            "Explain to me the difference between nuclear fission and fusion.\n",
            "\n",
            "#### Response from falcon-7b-instruct:\n",
            "#### Answer:\n",
            "\n",
            "The main difference between nuclear fission and fusion is the type of nuclear reaction they produce. In nuclear fission, an unstable, heavy nucleus splits into two or more smaller nuclei and releases a significant amount of energy in the form of gamma radiation and free neutrals. On the other hand, fusion is a nuclear reaction in which two lighter nuclei combine to form a heavier nucleus, releasing a substantial amount of energy in the process. Fusion releases energy due to the binding energy of the nucleus, which holds the nuclei together.\n",
            "\n",
            "In summary, while both fusion and fission involve nuclear reactions, fusion creates heavier nuclei with more neutrons, releasing more energy and fission just releases energy.\n",
            "\n",
            "Hope this helps explain nuclear reactions to you! Let me know if you have any more questions.\n"
          ]
        }
      ]
    },
    {
      "cell_type": "markdown",
      "source": [
        "https://colab.research.google.com/drive/1JMLa53HDuA-i7ZBmqV7ZnA3c_fvtXnx-?usp=sharing"
      ],
      "metadata": {
        "id": "lqvW2cQRe8Mh"
      }
    },
    {
      "cell_type": "code",
      "source": [],
      "metadata": {
        "id": "pd9TJbMLe7Pe"
      },
      "execution_count": null,
      "outputs": []
    },
    {
      "cell_type": "code",
      "source": [],
      "metadata": {
        "id": "oWBMOcPJbx0-"
      },
      "execution_count": 16,
      "outputs": []
    }
  ]
}